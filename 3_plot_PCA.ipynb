{
 "cells": [
  {
   "cell_type": "code",
   "execution_count": 1,
   "metadata": {
    "collapsed": true
   },
   "outputs": [],
   "source": [
    "#!/usr/bin/Rscript"
   ]
  },
  {
   "cell_type": "code",
   "execution_count": 2,
   "metadata": {
    "collapsed": false
   },
   "outputs": [],
   "source": [
    "#library(ggplot2, lib.loc = '/home/ryan/anaconda2/lib/R/library/')"
   ]
  },
  {
   "cell_type": "code",
   "execution_count": 3,
   "metadata": {
    "collapsed": true
   },
   "outputs": [],
   "source": [
    "options(jupyter.plot_mimetypes = \"image/png\") \n",
    "options(repr.plot.width = 6, repr.plot.height = 6)"
   ]
  },
  {
   "cell_type": "code",
   "execution_count": 4,
   "metadata": {
    "collapsed": true
   },
   "outputs": [],
   "source": [
    "read_pca_output <- function(path){\n",
    "    pca_df = read.table(path)\n",
    "    names(pca_df) = c('Population', 'Individual', 'PC1', 'PC2', 'PC3')\n",
    "    # enforce the order of populations\n",
    "    pca_df$Population <- factor(pca_df$Population , levels =c('Nome_ODD','Nome_EVEN', 'Koppen_ODD', 'Koppen_EVEN', 'Puget_ODD', 'Puget_EVEN'))\n",
    "    pca_df = pca_df[order(pca_df$Population),]\n",
    "    return(pca_df)\n",
    "}"
   ]
  },
  {
   "cell_type": "code",
   "execution_count": 5,
   "metadata": {
    "collapsed": true
   },
   "outputs": [],
   "source": [
    "plot_pca_basic <- function(pca_df, title){\n",
    "    plot(pca_df$PC1 , pca_df$PC2, col = pca_df$Population, pch = 16, main = title)\n",
    "    legend(x=\"topleft\", legend = levels(pca_df$Population), fill = palette()[1:6])\n",
    "}"
   ]
  },
  {
   "cell_type": "code",
   "execution_count": 6,
   "metadata": {
    "collapsed": true
   },
   "outputs": [],
   "source": [
    "# unused - example how to make a scatteplot in ggplot2\n",
    "plot_pca_ggplot <- function(pca_df){\n",
    "    library(ggplot2)\n",
    "    p = ggplot(data = pca_df, aes(x = PC1, y = PC2))\n",
    "    p = p + geom_point(aes(colour = Population))\n",
    "    p = p + theme_classic()\n",
    "    return(p)\n",
    "}"
   ]
  },
  {
   "cell_type": "markdown",
   "metadata": {},
   "source": [
    "# Load the PCA .eigenvec files "
   ]
  },
  {
   "cell_type": "code",
   "execution_count": 7,
   "metadata": {
    "collapsed": false
   },
   "outputs": [
    {
     "data": {
      "text/html": [
       "<table>\n",
       "<thead><tr><th></th><th scope=col>Population</th><th scope=col>Individual</th><th scope=col>PC1</th><th scope=col>PC2</th><th scope=col>PC3</th></tr></thead>\n",
       "<tbody>\n",
       "\t<tr><th scope=row>49</th><td>Nome_ODD    </td><td>PNOME91_0001</td><td>0.0325940   </td><td>0.128560    </td><td>-0.004888830</td></tr>\n",
       "\t<tr><th scope=row>50</th><td>Nome_ODD    </td><td>PNOME91_0002</td><td>0.0351358   </td><td>0.120024    </td><td>-0.004910520</td></tr>\n",
       "\t<tr><th scope=row>51</th><td>Nome_ODD    </td><td>PNOME91_0003</td><td>0.0377721   </td><td>0.137508    </td><td>-0.026583800</td></tr>\n",
       "\t<tr><th scope=row>52</th><td>Nome_ODD    </td><td>PNOME91_0004</td><td>0.0312007   </td><td>0.143588    </td><td>-0.000433409</td></tr>\n",
       "\t<tr><th scope=row>53</th><td>Nome_ODD    </td><td>PNOME91_0005</td><td>0.0418257   </td><td>0.124068    </td><td>-0.013349300</td></tr>\n",
       "\t<tr><th scope=row>54</th><td>Nome_ODD    </td><td>PNOME91_0008</td><td>0.0360430   </td><td>0.136630    </td><td> 0.004611240</td></tr>\n",
       "</tbody>\n",
       "</table>\n"
      ],
      "text/latex": [
       "\\begin{tabular}{r|lllll}\n",
       "  & Population & Individual & PC1 & PC2 & PC3\\\\\n",
       "\\hline\n",
       "\t49 & Nome\\_ODD     & PNOME91\\_0001 & 0.0325940      & 0.128560       & -0.004888830  \\\\\n",
       "\t50 & Nome\\_ODD     & PNOME91\\_0002 & 0.0351358      & 0.120024       & -0.004910520  \\\\\n",
       "\t51 & Nome\\_ODD     & PNOME91\\_0003 & 0.0377721      & 0.137508       & -0.026583800  \\\\\n",
       "\t52 & Nome\\_ODD     & PNOME91\\_0004 & 0.0312007      & 0.143588       & -0.000433409  \\\\\n",
       "\t53 & Nome\\_ODD     & PNOME91\\_0005 & 0.0418257      & 0.124068       & -0.013349300  \\\\\n",
       "\t54 & Nome\\_ODD     & PNOME91\\_0008 & 0.0360430      & 0.136630       &  0.004611240  \\\\\n",
       "\\end{tabular}\n"
      ],
      "text/markdown": [
       "\n",
       "| <!--/--> | Population | Individual | PC1 | PC2 | PC3 | \n",
       "|---|---|---|---|---|---|\n",
       "| 49 | Nome_ODD     | PNOME91_0001 | 0.0325940    | 0.128560     | -0.004888830 | \n",
       "| 50 | Nome_ODD     | PNOME91_0002 | 0.0351358    | 0.120024     | -0.004910520 | \n",
       "| 51 | Nome_ODD     | PNOME91_0003 | 0.0377721    | 0.137508     | -0.026583800 | \n",
       "| 52 | Nome_ODD     | PNOME91_0004 | 0.0312007    | 0.143588     | -0.000433409 | \n",
       "| 53 | Nome_ODD     | PNOME91_0005 | 0.0418257    | 0.124068     | -0.013349300 | \n",
       "| 54 | Nome_ODD     | PNOME91_0008 | 0.0360430    | 0.136630     |  0.004611240 | \n",
       "\n",
       "\n"
      ],
      "text/plain": [
       "   Population Individual   PC1       PC2      PC3         \n",
       "49 Nome_ODD   PNOME91_0001 0.0325940 0.128560 -0.004888830\n",
       "50 Nome_ODD   PNOME91_0002 0.0351358 0.120024 -0.004910520\n",
       "51 Nome_ODD   PNOME91_0003 0.0377721 0.137508 -0.026583800\n",
       "52 Nome_ODD   PNOME91_0004 0.0312007 0.143588 -0.000433409\n",
       "53 Nome_ODD   PNOME91_0005 0.0418257 0.124068 -0.013349300\n",
       "54 Nome_ODD   PNOME91_0008 0.0360430 0.136630  0.004611240"
      ]
     },
     "metadata": {},
     "output_type": "display_data"
    }
   ],
   "source": [
    "pca_initial = read_pca_output('./work/pink_data.initial.eigenvec')\n",
    "head(pca_initial)"
   ]
  },
  {
   "cell_type": "code",
   "execution_count": 8,
   "metadata": {
    "collapsed": false
   },
   "outputs": [
    {
     "data": {
      "text/html": [
       "<table>\n",
       "<thead><tr><th></th><th scope=col>Population</th><th scope=col>Individual</th><th scope=col>PC1</th><th scope=col>PC2</th><th scope=col>PC3</th></tr></thead>\n",
       "<tbody>\n",
       "\t<tr><th scope=row>49</th><td>Nome_ODD    </td><td>PNOME91_0001</td><td>0.0148705   </td><td>0.137154    </td><td>0.1013380   </td></tr>\n",
       "\t<tr><th scope=row>50</th><td>Nome_ODD    </td><td>PNOME91_0002</td><td>0.0270198   </td><td>0.103551    </td><td>0.0533876   </td></tr>\n",
       "\t<tr><th scope=row>51</th><td>Nome_ODD    </td><td>PNOME91_0003</td><td>0.0178010   </td><td>0.121176    </td><td>0.0811069   </td></tr>\n",
       "\t<tr><th scope=row>52</th><td>Nome_ODD    </td><td>PNOME91_0004</td><td>0.0123028   </td><td>0.134622    </td><td>0.0889382   </td></tr>\n",
       "\t<tr><th scope=row>53</th><td>Nome_ODD    </td><td>PNOME91_0005</td><td>0.0301644   </td><td>0.113710    </td><td>0.0971877   </td></tr>\n",
       "\t<tr><th scope=row>54</th><td>Nome_ODD    </td><td>PNOME91_0008</td><td>0.0161880   </td><td>0.129502    </td><td>0.0753457   </td></tr>\n",
       "</tbody>\n",
       "</table>\n"
      ],
      "text/latex": [
       "\\begin{tabular}{r|lllll}\n",
       "  & Population & Individual & PC1 & PC2 & PC3\\\\\n",
       "\\hline\n",
       "\t49 & Nome\\_ODD     & PNOME91\\_0001 & 0.0148705      & 0.137154       & 0.1013380     \\\\\n",
       "\t50 & Nome\\_ODD     & PNOME91\\_0002 & 0.0270198      & 0.103551       & 0.0533876     \\\\\n",
       "\t51 & Nome\\_ODD     & PNOME91\\_0003 & 0.0178010      & 0.121176       & 0.0811069     \\\\\n",
       "\t52 & Nome\\_ODD     & PNOME91\\_0004 & 0.0123028      & 0.134622       & 0.0889382     \\\\\n",
       "\t53 & Nome\\_ODD     & PNOME91\\_0005 & 0.0301644      & 0.113710       & 0.0971877     \\\\\n",
       "\t54 & Nome\\_ODD     & PNOME91\\_0008 & 0.0161880      & 0.129502       & 0.0753457     \\\\\n",
       "\\end{tabular}\n"
      ],
      "text/markdown": [
       "\n",
       "| <!--/--> | Population | Individual | PC1 | PC2 | PC3 | \n",
       "|---|---|---|---|---|---|\n",
       "| 49 | Nome_ODD     | PNOME91_0001 | 0.0148705    | 0.137154     | 0.1013380    | \n",
       "| 50 | Nome_ODD     | PNOME91_0002 | 0.0270198    | 0.103551     | 0.0533876    | \n",
       "| 51 | Nome_ODD     | PNOME91_0003 | 0.0178010    | 0.121176     | 0.0811069    | \n",
       "| 52 | Nome_ODD     | PNOME91_0004 | 0.0123028    | 0.134622     | 0.0889382    | \n",
       "| 53 | Nome_ODD     | PNOME91_0005 | 0.0301644    | 0.113710     | 0.0971877    | \n",
       "| 54 | Nome_ODD     | PNOME91_0008 | 0.0161880    | 0.129502     | 0.0753457    | \n",
       "\n",
       "\n"
      ],
      "text/plain": [
       "   Population Individual   PC1       PC2      PC3      \n",
       "49 Nome_ODD   PNOME91_0001 0.0148705 0.137154 0.1013380\n",
       "50 Nome_ODD   PNOME91_0002 0.0270198 0.103551 0.0533876\n",
       "51 Nome_ODD   PNOME91_0003 0.0178010 0.121176 0.0811069\n",
       "52 Nome_ODD   PNOME91_0004 0.0123028 0.134622 0.0889382\n",
       "53 Nome_ODD   PNOME91_0005 0.0301644 0.113710 0.0971877\n",
       "54 Nome_ODD   PNOME91_0008 0.0161880 0.129502 0.0753457"
      ]
     },
     "metadata": {},
     "output_type": "display_data"
    }
   ],
   "source": [
    "pca_clean = read_pca_output('./work/pink_salmon.clean.eigenvec')\n",
    "head(pca_clean)"
   ]
  },
  {
   "cell_type": "code",
   "execution_count": 9,
   "metadata": {
    "collapsed": true
   },
   "outputs": [],
   "source": [
    "# Make some plots and save them to a file"
   ]
  },
  {
   "cell_type": "code",
   "execution_count": 13,
   "metadata": {
    "collapsed": false
   },
   "outputs": [
    {
     "data": {
      "text/html": [
       "<strong>png:</strong> 2"
      ],
      "text/latex": [
       "\\textbf{png:} 2"
      ],
      "text/markdown": [
       "**png:** 2"
      ],
      "text/plain": [
       "png \n",
       "  2 "
      ]
     },
     "metadata": {},
     "output_type": "display_data"
    }
   ],
   "source": [
    "png(\"./plots/PCA.pink_salmon.inital.png\")\n",
    "plot_pca_basic(pca_initial, title = 'pink_salmon.inital')\n",
    "dev.off()"
   ]
  },
  {
   "cell_type": "code",
   "execution_count": 14,
   "metadata": {
    "collapsed": false
   },
   "outputs": [
    {
     "data": {
      "text/html": [
       "<strong>png:</strong> 2"
      ],
      "text/latex": [
       "\\textbf{png:} 2"
      ],
      "text/markdown": [
       "**png:** 2"
      ],
      "text/plain": [
       "png \n",
       "  2 "
      ]
     },
     "metadata": {},
     "output_type": "display_data"
    }
   ],
   "source": [
    "png(\"./plots/PCA.pink_salmon.clean.png\")\n",
    "plot_pca_basic(pca_clean, title = 'pink_salmon.clean')\n",
    "dev.off()"
   ]
  },
  {
   "cell_type": "markdown",
   "metadata": {},
   "source": [
    "# "
   ]
  },
  {
   "cell_type": "code",
   "execution_count": 16,
   "metadata": {
    "collapsed": false
   },
   "outputs": [],
   "source": [
    "#plot_pca_basic(pca_initial, title = 'pink_salmon.inital')\n",
    "#plot_pca_basic(pca_clean, title = 'pink_salmon.clean')\n"
   ]
  },
  {
   "cell_type": "code",
   "execution_count": null,
   "metadata": {
    "collapsed": true
   },
   "outputs": [],
   "source": []
  }
 ],
 "metadata": {
  "kernelspec": {
   "display_name": "R",
   "language": "R",
   "name": "ir"
  },
  "language_info": {
   "codemirror_mode": "r",
   "file_extension": ".r",
   "mimetype": "text/x-r-source",
   "name": "R",
   "pygments_lexer": "r",
   "version": "3.3.2"
  }
 },
 "nbformat": 4,
 "nbformat_minor": 2
}
