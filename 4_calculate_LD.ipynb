{
 "cells": [
  {
   "cell_type": "code",
   "execution_count": 4,
   "metadata": {
    "collapsed": true
   },
   "outputs": [],
   "source": [
    "PLINK = '/home/ryan/programs/plink/plink'\n",
    "popgen2017_PLINK = '/home/popgen2016/software/plink'"
   ]
  },
  {
   "cell_type": "code",
   "execution_count": null,
   "metadata": {
    "collapsed": true
   },
   "outputs": [],
   "source": []
  },
  {
   "cell_type": "code",
   "execution_count": 5,
   "metadata": {
    "collapsed": false
   },
   "outputs": [
    {
     "name": "stdout",
     "output_type": "stream",
     "text": [
      "PLINK v1.90b3.44 64-bit (17 Nov 2016)      https://www.cog-genomics.org/plink2\n",
      "(C) 2005-2016 Shaun Purcell, Christopher Chang   GNU General Public License v3\n",
      "Logging to ./work/Koppen_ODD.log.\n",
      "Options in effect:\n",
      "  --bfile ./work/Koppen_ODD\n",
      "  --out ./work/Koppen_ODD\n",
      "  --r2 square\n",
      "\n",
      "386870 MB RAM detected; reserving 193435 MB for main workspace.\n",
      "2018 variants loaded from .bim file.\n",
      "24 people (0 males, 0 females, 24 ambiguous) loaded from .fam.\n",
      "Ambiguous sex IDs written to ./work/Koppen_ODD.nosex .\n",
      "Using up to 87 threads (change this with --threads).\n",
      "Before main variant filters, 24 founders and 0 nonfounders present.\n",
      "Calculating allele frequencies... 0%\b\b1%\b\b2%\b\b3%\b\b4%\b\b5%\b\b6%\b\b7%\b\b8%\b\b9%\b\b10%\b\b\b11%\b\b\b12%\b\b\b13%\b\b\b14%\b\b\b15%\b\b\b16%\b\b\b17%\b\b\b18%\b\b\b19%\b\b\b20%\b\b\b21%\b\b\b22%\b\b\b23%\b\b\b24%\b\b\b25%\b\b\b26%\b\b\b27%\b\b\b28%\b\b\b29%\b\b\b30%\b\b\b31%\b\b\b32%\b\b\b33%\b\b\b34%\b\b\b35%\b\b\b36%\b\b\b37%\b\b\b38%\b\b\b39%\b\b\b40%\b\b\b41%\b\b\b42%\b\b\b43%\b\b\b44%\b\b\b45%\b\b\b46%\b\b\b47%\b\b\b48%\b\b\b49%\b\b\b50%\b\b\b51%\b\b\b52%\b\b\b53%\b\b\b54%\b\b\b55%\b\b\b56%\b\b\b57%\b\b\b58%\b\b\b59%\b\b\b60%\b\b\b61%\b\b\b62%\b\b\b63%\b\b\b64%\b\b\b65%\b\b\b66%\b\b\b67%\b\b\b68%\b\b\b69%\b\b\b70%\b\b\b71%\b\b\b72%\b\b\b73%\b\b\b74%\b\b\b75%\b\b\b76%\b\b\b77%\b\b\b78%\b\b\b79%\b\b\b80%\b\b\b81%\b\b\b82%\b\b\b83%\b\b\b84%\b\b\b85%\b\b\b86%\b\b\b87%\b\b\b88%\b\b\b89%\b\b\b90%\b\b\b91%\b\b\b92%\b\b\b93%\b\b\b94%\b\b\b95%\b\b\b96%\b\b\b97%\b\b\b98%\b\b\b99%\b\b\b\b done.\n",
      "2018 variants and 24 people pass filters and QC.\n",
      "Note: No phenotypes present.\n",
      "--r2 square to ./work/Koppen_ODD.ld ... 0% [processing]\b\b\b\b\b\b\b\b\b\b\bwriting]   \b\b\b\b\b\b\b\b\b\b\b\b\b          \b\b\b\b\b\b\b\b\b\b\b\bdone.\n",
      "PLINK v1.90b3.44 64-bit (17 Nov 2016)      https://www.cog-genomics.org/plink2\n",
      "(C) 2005-2016 Shaun Purcell, Christopher Chang   GNU General Public License v3\n",
      "Logging to ./work/Koppen_EVEN.log.\n",
      "Options in effect:\n",
      "  --bfile ./work/Koppen_EVEN\n",
      "  --out ./work/Koppen_EVEN\n",
      "  --r2 square\n",
      "\n",
      "386870 MB RAM detected; reserving 193435 MB for main workspace.\n",
      "1662 variants loaded from .bim file.\n",
      "24 people (0 males, 0 females, 24 ambiguous) loaded from .fam.\n",
      "Ambiguous sex IDs written to ./work/Koppen_EVEN.nosex .\n",
      "Using up to 87 threads (change this with --threads).\n",
      "Before main variant filters, 24 founders and 0 nonfounders present.\n",
      "Calculating allele frequencies... 0%\b\b1%\b\b2%\b\b3%\b\b4%\b\b5%\b\b6%\b\b7%\b\b8%\b\b9%\b\b10%\b\b\b11%\b\b\b12%\b\b\b13%\b\b\b14%\b\b\b15%\b\b\b16%\b\b\b17%\b\b\b18%\b\b\b19%\b\b\b20%\b\b\b21%\b\b\b22%\b\b\b23%\b\b\b24%\b\b\b25%\b\b\b26%\b\b\b27%\b\b\b28%\b\b\b29%\b\b\b30%\b\b\b31%\b\b\b32%\b\b\b33%\b\b\b34%\b\b\b35%\b\b\b36%\b\b\b37%\b\b\b38%\b\b\b39%\b\b\b40%\b\b\b41%\b\b\b42%\b\b\b43%\b\b\b44%\b\b\b45%\b\b\b46%\b\b\b47%\b\b\b48%\b\b\b49%\b\b\b50%\b\b\b51%\b\b\b52%\b\b\b53%\b\b\b54%\b\b\b55%\b\b\b56%\b\b\b57%\b\b\b58%\b\b\b59%\b\b\b60%\b\b\b61%\b\b\b62%\b\b\b63%\b\b\b64%\b\b\b65%\b\b\b66%\b\b\b67%\b\b\b68%\b\b\b69%\b\b\b70%\b\b\b71%\b\b\b72%\b\b\b73%\b\b\b74%\b\b\b75%\b\b\b76%\b\b\b77%\b\b\b78%\b\b\b79%\b\b\b80%\b\b\b81%\b\b\b82%\b\b\b83%\b\b\b84%\b\b\b85%\b\b\b86%\b\b\b87%\b\b\b88%\b\b\b89%\b\b\b90%\b\b\b91%\b\b\b92%\b\b\b93%\b\b\b94%\b\b\b95%\b\b\b96%\b\b\b97%\b\b\b98%\b\b\b99%\b\b\b\b done.\n",
      "1662 variants and 24 people pass filters and QC.\n",
      "Note: No phenotypes present.\n",
      "--r2 square to ./work/Koppen_EVEN.ld ... 0% [processing]\b\b\b\b\b\b\b\b\b\b\bwriting]   \b\b\b\b\b\b\b\b\b\b\b\b\b          \b\b\b\b\b\b\b\b\b\b\b\bdone.\n",
      "PLINK v1.90b3.44 64-bit (17 Nov 2016)      https://www.cog-genomics.org/plink2\n",
      "(C) 2005-2016 Shaun Purcell, Christopher Chang   GNU General Public License v3\n",
      "Logging to ./work/Nome_ODD.log.\n",
      "Options in effect:\n",
      "  --bfile ./work/Nome_ODD\n",
      "  --out ./work/Nome_ODD\n",
      "  --r2 square\n",
      "\n",
      "386870 MB RAM detected; reserving 193435 MB for main workspace.\n",
      "1637 variants loaded from .bim file.\n",
      "24 people (0 males, 0 females, 24 ambiguous) loaded from .fam.\n",
      "Ambiguous sex IDs written to ./work/Nome_ODD.nosex .\n",
      "Using up to 87 threads (change this with --threads).\n",
      "Before main variant filters, 24 founders and 0 nonfounders present.\n",
      "Calculating allele frequencies... 0%\b\b1%\b\b2%\b\b3%\b\b4%\b\b5%\b\b6%\b\b7%\b\b8%\b\b9%\b\b10%\b\b\b11%\b\b\b12%\b\b\b13%\b\b\b14%\b\b\b15%\b\b\b16%\b\b\b17%\b\b\b18%\b\b\b19%\b\b\b20%\b\b\b21%\b\b\b22%\b\b\b23%\b\b\b24%\b\b\b25%\b\b\b26%\b\b\b27%\b\b\b28%\b\b\b29%\b\b\b30%\b\b\b31%\b\b\b32%\b\b\b33%\b\b\b34%\b\b\b35%\b\b\b36%\b\b\b37%\b\b\b38%\b\b\b39%\b\b\b40%\b\b\b41%\b\b\b42%\b\b\b43%\b\b\b44%\b\b\b45%\b\b\b46%\b\b\b47%\b\b\b48%\b\b\b49%\b\b\b50%\b\b\b51%\b\b\b52%\b\b\b53%\b\b\b54%\b\b\b55%\b\b\b56%\b\b\b57%\b\b\b58%\b\b\b59%\b\b\b60%\b\b\b61%\b\b\b62%\b\b\b63%\b\b\b64%\b\b\b65%\b\b\b66%\b\b\b67%\b\b\b68%\b\b\b69%\b\b\b70%\b\b\b71%\b\b\b72%\b\b\b73%\b\b\b74%\b\b\b75%\b\b\b76%\b\b\b77%\b\b\b78%\b\b\b79%\b\b\b80%\b\b\b81%\b\b\b82%\b\b\b83%\b\b\b84%\b\b\b85%\b\b\b86%\b\b\b87%\b\b\b88%\b\b\b89%\b\b\b90%\b\b\b91%\b\b\b92%\b\b\b93%\b\b\b94%\b\b\b95%\b\b\b96%\b\b\b97%\b\b\b98%\b\b\b99%\b\b\b\b done.\n",
      "1637 variants and 24 people pass filters and QC.\n",
      "Note: No phenotypes present.\n",
      "--r2 square to ./work/Nome_ODD.ld ... 0% [processing]\b\b\b\b\b\b\b\b\b\b\bwriting]   \b\b\b\b\b\b\b\b\b\b\b\b\b          \b\b\b\b\b\b\b\b\b\b\b\bdone.\n",
      "PLINK v1.90b3.44 64-bit (17 Nov 2016)      https://www.cog-genomics.org/plink2\n",
      "(C) 2005-2016 Shaun Purcell, Christopher Chang   GNU General Public License v3\n",
      "Logging to ./work/Nome_EVEN.log.\n",
      "Options in effect:\n",
      "  --bfile ./work/Nome_EVEN\n",
      "  --out ./work/Nome_EVEN\n",
      "  --r2 square\n",
      "\n",
      "386870 MB RAM detected; reserving 193435 MB for main workspace.\n",
      "1095 variants loaded from .bim file.\n",
      "20 people (0 males, 0 females, 20 ambiguous) loaded from .fam.\n",
      "Ambiguous sex IDs written to ./work/Nome_EVEN.nosex .\n",
      "Using up to 87 threads (change this with --threads).\n",
      "Before main variant filters, 20 founders and 0 nonfounders present.\n",
      "Calculating allele frequencies... 0%\b\b1%\b\b2%\b\b3%\b\b4%\b\b5%\b\b6%\b\b7%\b\b8%\b\b9%\b\b10%\b\b\b11%\b\b\b12%\b\b\b13%\b\b\b14%\b\b\b15%\b\b\b16%\b\b\b17%\b\b\b18%\b\b\b19%\b\b\b20%\b\b\b21%\b\b\b22%\b\b\b23%\b\b\b24%\b\b\b25%\b\b\b26%\b\b\b27%\b\b\b28%\b\b\b29%\b\b\b30%\b\b\b31%\b\b\b32%\b\b\b33%\b\b\b34%\b\b\b35%\b\b\b36%\b\b\b37%\b\b\b38%\b\b\b39%\b\b\b40%\b\b\b41%\b\b\b42%\b\b\b43%\b\b\b44%\b\b\b45%\b\b\b46%\b\b\b47%\b\b\b48%\b\b\b49%\b\b\b50%\b\b\b51%\b\b\b52%\b\b\b53%\b\b\b54%\b\b\b55%\b\b\b56%\b\b\b57%\b\b\b58%\b\b\b59%\b\b\b60%\b\b\b61%\b\b\b62%\b\b\b63%\b\b\b64%\b\b\b65%\b\b\b66%\b\b\b67%\b\b\b68%\b\b\b69%\b\b\b70%\b\b\b71%\b\b\b72%\b\b\b73%\b\b\b74%\b\b\b75%\b\b\b76%\b\b\b77%\b\b\b78%\b\b\b79%\b\b\b80%\b\b\b81%\b\b\b82%\b\b\b83%\b\b\b84%\b\b\b85%\b\b\b86%\b\b\b87%\b\b\b88%\b\b\b89%\b\b\b90%\b\b\b91%\b\b\b92%\b\b\b93%\b\b\b94%\b\b\b95%\b\b\b96%\b\b\b97%\b\b\b98%\b\b\b99%\b\b\b\b done.\n",
      "1095 variants and 20 people pass filters and QC.\n",
      "Note: No phenotypes present.\n",
      "--r2 square to ./work/Nome_EVEN.ld ... 0% [processing]\b\b\b\b\b\b\b\b\b\b\bwriting]   \b\b\b\b\b\b\b\b\b\b\b\b\b          \b\b\b\b\b\b\b\b\b\b\b\bdone.\n",
      "PLINK v1.90b3.44 64-bit (17 Nov 2016)      https://www.cog-genomics.org/plink2\n",
      "(C) 2005-2016 Shaun Purcell, Christopher Chang   GNU General Public License v3\n",
      "Logging to ./work/Puget_ODD.log.\n",
      "Options in effect:\n",
      "  --bfile ./work/Puget_ODD\n",
      "  --out ./work/Puget_ODD\n",
      "  --r2 square\n",
      "\n",
      "386870 MB RAM detected; reserving 193435 MB for main workspace.\n",
      "1749 variants loaded from .bim file.\n",
      "24 people (0 males, 0 females, 24 ambiguous) loaded from .fam.\n",
      "Ambiguous sex IDs written to ./work/Puget_ODD.nosex .\n",
      "Using up to 87 threads (change this with --threads).\n",
      "Before main variant filters, 24 founders and 0 nonfounders present.\n",
      "Calculating allele frequencies... 0%\b\b1%\b\b2%\b\b3%\b\b4%\b\b5%\b\b6%\b\b7%\b\b8%\b\b9%\b\b10%\b\b\b11%\b\b\b12%\b\b\b13%\b\b\b14%\b\b\b15%\b\b\b16%\b\b\b17%\b\b\b18%\b\b\b19%\b\b\b20%\b\b\b21%\b\b\b22%\b\b\b23%\b\b\b24%\b\b\b25%\b\b\b26%\b\b\b27%\b\b\b28%\b\b\b29%\b\b\b30%\b\b\b31%\b\b\b32%\b\b\b33%\b\b\b34%\b\b\b35%\b\b\b36%\b\b\b37%\b\b\b38%\b\b\b39%\b\b\b40%\b\b\b41%\b\b\b42%\b\b\b43%\b\b\b44%\b\b\b45%\b\b\b46%\b\b\b47%\b\b\b48%\b\b\b49%\b\b\b50%\b\b\b51%\b\b\b52%\b\b\b53%\b\b\b54%\b\b\b55%\b\b\b56%\b\b\b57%\b\b\b58%\b\b\b59%\b\b\b60%\b\b\b61%\b\b\b62%\b\b\b63%\b\b\b64%\b\b\b65%\b\b\b66%\b\b\b67%\b\b\b68%\b\b\b69%\b\b\b70%\b\b\b71%\b\b\b72%\b\b\b73%\b\b\b74%\b\b\b75%\b\b\b76%\b\b\b77%\b\b\b78%\b\b\b79%\b\b\b80%\b\b\b81%\b\b\b82%\b\b\b83%\b\b\b84%\b\b\b85%\b\b\b86%\b\b\b87%\b\b\b88%\b\b\b89%\b\b\b90%\b\b\b91%\b\b\b92%\b\b\b93%\b\b\b94%\b\b\b95%\b\b\b96%\b\b\b97%\b\b\b98%\b\b\b99%\b\b\b\b done.\n",
      "1749 variants and 24 people pass filters and QC.\n",
      "Note: No phenotypes present.\n",
      "--r2 square to ./work/Puget_ODD.ld ... 0% [processing]\b\b\b\b\b\b\b\b\b\b\bwriting]   \b\b\b\b\b\b\b\b\b\b\b\b\b          \b\b\b\b\b\b\b\b\b\b\b\bdone.\n",
      "PLINK v1.90b3.44 64-bit (17 Nov 2016)      https://www.cog-genomics.org/plink2\n",
      "(C) 2005-2016 Shaun Purcell, Christopher Chang   GNU General Public License v3\n",
      "Logging to ./work/Puget_EVEN.log.\n",
      "Options in effect:\n",
      "  --bfile ./work/Puget_EVEN\n",
      "  --out ./work/Puget_EVEN\n",
      "  --r2 square\n",
      "\n",
      "386870 MB RAM detected; reserving 193435 MB for main workspace.\n",
      "1070 variants loaded from .bim file.\n",
      "24 people (0 males, 0 females, 24 ambiguous) loaded from .fam.\n",
      "Ambiguous sex IDs written to ./work/Puget_EVEN.nosex .\n",
      "Using up to 87 threads (change this with --threads).\n",
      "Before main variant filters, 24 founders and 0 nonfounders present.\n",
      "Calculating allele frequencies... 0%\b\b1%\b\b2%\b\b3%\b\b4%\b\b5%\b\b6%\b\b7%\b\b8%\b\b9%\b\b10%\b\b\b11%\b\b\b12%\b\b\b13%\b\b\b14%\b\b\b15%\b\b\b16%\b\b\b17%\b\b\b18%\b\b\b19%\b\b\b20%\b\b\b21%\b\b\b22%\b\b\b23%\b\b\b24%\b\b\b25%\b\b\b26%\b\b\b27%\b\b\b28%\b\b\b29%\b\b\b30%\b\b\b31%\b\b\b32%\b\b\b33%\b\b\b34%\b\b\b35%\b\b\b36%\b\b\b37%\b\b\b38%\b\b\b39%\b\b\b40%\b\b\b41%\b\b\b42%\b\b\b43%\b\b\b44%\b\b\b45%\b\b\b46%\b\b\b47%\b\b\b48%\b\b\b49%\b\b\b50%\b\b\b51%\b\b\b52%\b\b\b53%\b\b\b54%\b\b\b55%\b\b\b56%\b\b\b57%\b\b\b58%\b\b\b59%\b\b\b60%\b\b\b61%\b\b\b62%\b\b\b63%\b\b\b64%\b\b\b65%\b\b\b66%\b\b\b67%\b\b\b68%\b\b\b69%\b\b\b70%\b\b\b71%\b\b\b72%\b\b\b73%\b\b\b74%\b\b\b75%\b\b\b76%\b\b\b77%\b\b\b78%\b\b\b79%\b\b\b80%\b\b\b81%\b\b\b82%\b\b\b83%\b\b\b84%\b\b\b85%\b\b\b86%\b\b\b87%\b\b\b88%\b\b\b89%\b\b\b90%\b\b\b91%\b\b\b92%\b\b\b93%\b\b\b94%\b\b\b95%\b\b\b96%\b\b\b97%\b\b\b98%\b\b\b99%\b\b\b\b done.\n",
      "1070 variants and 24 people pass filters and QC.\n",
      "Note: No phenotypes present.\n",
      "--r2 square to ./work/Puget_EVEN.ld ... 0% [processing]\b\b\b\b\b\b\b\b\b\b\bwriting]   \b\b\b\b\b\b\b\b\b\b\b\b\b          \b\b\b\b\b\b\b\b\b\b\b\bdone.\n"
     ]
    }
   ],
   "source": [
    "for POP in ['Koppen_ODD', 'Koppen_EVEN', 'Nome_ODD', 'Nome_EVEN', 'Puget_ODD', 'Puget_EVEN']:\n",
    "    !{PLINK} --bfile ./work/{POP} \\\n",
    "    --r2 square \\\n",
    "    --out ./work/{POP}"
   ]
  },
  {
   "cell_type": "code",
   "execution_count": 7,
   "metadata": {
    "collapsed": true
   },
   "outputs": [],
   "source": [
    "WRITE_SH = True\n",
    "if WRITE_SH:\n",
    "    ! : > ./scripts/4_calculate_LD.sh\n",
    "    !echo {popgen2017_PLINK} --bfile ./work/{POP} \\\n",
    "    --r2 square \\\n",
    "    --out ./work/{POP} >> ./scripts/4_calculate_LD.sh"
   ]
  },
  {
   "cell_type": "code",
   "execution_count": null,
   "metadata": {
    "collapsed": true
   },
   "outputs": [],
   "source": []
  }
 ],
 "metadata": {
  "kernelspec": {
   "display_name": "Python [conda root]",
   "language": "python",
   "name": "conda-root-py"
  },
  "language_info": {
   "codemirror_mode": {
    "name": "ipython",
    "version": 2
   },
   "file_extension": ".py",
   "mimetype": "text/x-python",
   "name": "python",
   "nbconvert_exporter": "python",
   "pygments_lexer": "ipython2",
   "version": "2.7.13"
  }
 },
 "nbformat": 4,
 "nbformat_minor": 2
}
