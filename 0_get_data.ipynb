{
 "cells": [
  {
   "cell_type": "code",
   "execution_count": 7,
   "metadata": {
    "collapsed": false
   },
   "outputs": [
    {
     "name": "stdout",
     "output_type": "stream",
     "text": [
      "--2017-03-07 22:07:52--  http://people.binf.ku.dk/cetp/popgen/pink_salmon/pink_salmon.bed\n",
      "Resolving people.binf.ku.dk (people.binf.ku.dk)... 130.226.13.22\n",
      "Connecting to people.binf.ku.dk (people.binf.ku.dk)|130.226.13.22|:80... connected.\n",
      "HTTP request sent, awaiting response... 200 OK\n",
      "Length: 273843 (267K)\n",
      "Saving to: ‘./data/pink_salmon.bed’\n",
      "\n",
      "pink_salmon.bed     100%[===================>] 267.42K  --.-KB/s    in 0.006s  \n",
      "\n",
      "2017-03-07 22:07:52 (45.4 MB/s) - ‘./data/pink_salmon.bed’ saved [273843/273843]\n",
      "\n",
      "--2017-03-07 22:07:52--  http://people.binf.ku.dk/cetp/popgen/pink_salmon/pink_salmon.bim\n",
      "Resolving people.binf.ku.dk (people.binf.ku.dk)... 130.226.13.22\n",
      "Connecting to people.binf.ku.dk (people.binf.ku.dk)|130.226.13.22|:80... connected.\n",
      "HTTP request sent, awaiting response... 200 OK\n",
      "Length: 158311 (155K)\n",
      "Saving to: ‘./data/pink_salmon.bim’\n",
      "\n",
      "pink_salmon.bim     100%[===================>] 154.60K  --.-KB/s    in 0.003s  \n",
      "\n",
      "2017-03-07 22:07:52 (44.1 MB/s) - ‘./data/pink_salmon.bim’ saved [158311/158311]\n",
      "\n",
      "--2017-03-07 22:07:52--  http://people.binf.ku.dk/cetp/popgen/pink_salmon/pink_salmon.fam\n",
      "Resolving people.binf.ku.dk (people.binf.ku.dk)... 130.226.13.22\n",
      "Connecting to people.binf.ku.dk (people.binf.ku.dk)|130.226.13.22|:80... connected.\n",
      "HTTP request sent, awaiting response... 200 OK\n",
      "Length: 4600 (4.5K)\n",
      "Saving to: ‘./data/pink_salmon.fam’\n",
      "\n",
      "pink_salmon.fam     100%[===================>]   4.49K  --.-KB/s    in 0s      \n",
      "\n",
      "2017-03-07 22:07:52 (421 MB/s) - ‘./data/pink_salmon.fam’ saved [4600/4600]\n",
      "\n"
     ]
    }
   ],
   "source": [
    "!wget http://people.binf.ku.dk/cetp/popgen/pink_salmon/pink_salmon.bed --directory-prefix ./data\n",
    "!wget http://people.binf.ku.dk/cetp/popgen/pink_salmon/pink_salmon.bim --directory-prefix ./data\n",
    "!wget http://people.binf.ku.dk/cetp/popgen/pink_salmon/pink_salmon.fam --directory-prefix ./data\n",
    "!wget http://people.binf.ku.dk/cetp/popgen/pink_salmon/Nc_estimates.txt --directory-prefix ./data"
   ]
  },
  {
   "cell_type": "code",
   "execution_count": null,
   "metadata": {
    "collapsed": true
   },
   "outputs": [],
   "source": []
  }
 ],
 "metadata": {
  "kernelspec": {
   "display_name": "Python [conda root]",
   "language": "python",
   "name": "conda-root-py"
  },
  "language_info": {
   "codemirror_mode": {
    "name": "ipython",
    "version": 2
   },
   "file_extension": ".py",
   "mimetype": "text/x-python",
   "name": "python",
   "nbconvert_exporter": "python",
   "pygments_lexer": "ipython2",
   "version": "2.7.13"
  }
 },
 "nbformat": 4,
 "nbformat_minor": 2
}
