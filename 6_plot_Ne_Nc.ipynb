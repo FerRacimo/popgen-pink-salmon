{
 "cells": [
  {
   "cell_type": "code",
   "execution_count": null,
   "metadata": {
    "collapsed": true
   },
   "outputs": [],
   "source": [
    "# Load in the Ne and Nc estimates"
   ]
  },
  {
   "cell_type": "code",
   "execution_count": 1,
   "metadata": {
    "collapsed": false
   },
   "outputs": [],
   "source": [
    "Ne = read.table(\"./work/Ne_estimates.txt\",sep = '\\t', header = TRUE)\n",
    "Nc = read.table(\"./data/Nc_estimates.txt\",sep = '\\t', header = TRUE)"
   ]
  },
  {
   "cell_type": "code",
   "execution_count": 2,
   "metadata": {
    "collapsed": false
   },
   "outputs": [
    {
     "data": {
      "text/html": [
       "<table>\n",
       "<thead><tr><th scope=col>Pop</th><th scope=col>Site</th><th scope=col>Lineage</th><th scope=col>Ne_est</th></tr></thead>\n",
       "<tbody>\n",
       "\t<tr><td>Nome_ODD   </td><td>Nome       </td><td>ODD        </td><td>2014.426   </td></tr>\n",
       "\t<tr><td>Nome_EVEN  </td><td>Nome       </td><td>EVEN       </td><td>3691.296   </td></tr>\n",
       "\t<tr><td>Koppen_ODD </td><td>Koppen     </td><td>ODD        </td><td>2079.581   </td></tr>\n",
       "\t<tr><td>Koppen_EVEN</td><td>Koppen     </td><td>EVEN       </td><td>9087.463   </td></tr>\n",
       "\t<tr><td>Puget_ODD  </td><td>Puget      </td><td>ODD        </td><td>2934.276   </td></tr>\n",
       "\t<tr><td>Puget_EVEN </td><td>Puget      </td><td>EVEN       </td><td>1805.562   </td></tr>\n",
       "</tbody>\n",
       "</table>\n"
      ],
      "text/latex": [
       "\\begin{tabular}{r|llll}\n",
       " Pop & Site & Lineage & Ne\\_est\\\\\n",
       "\\hline\n",
       "\t Nome\\_ODD    & Nome          & ODD           & 2014.426     \\\\\n",
       "\t Nome\\_EVEN   & Nome          & EVEN          & 3691.296     \\\\\n",
       "\t Koppen\\_ODD  & Koppen        & ODD           & 2079.581     \\\\\n",
       "\t Koppen\\_EVEN & Koppen        & EVEN          & 9087.463     \\\\\n",
       "\t Puget\\_ODD   & Puget         & ODD           & 2934.276     \\\\\n",
       "\t Puget\\_EVEN  & Puget         & EVEN          & 1805.562     \\\\\n",
       "\\end{tabular}\n"
      ],
      "text/markdown": [
       "\n",
       "Pop | Site | Lineage | Ne_est | \n",
       "|---|---|---|---|---|---|\n",
       "| Nome_ODD    | Nome        | ODD         | 2014.426    | \n",
       "| Nome_EVEN   | Nome        | EVEN        | 3691.296    | \n",
       "| Koppen_ODD  | Koppen      | ODD         | 2079.581    | \n",
       "| Koppen_EVEN | Koppen      | EVEN        | 9087.463    | \n",
       "| Puget_ODD   | Puget       | ODD         | 2934.276    | \n",
       "| Puget_EVEN  | Puget       | EVEN        | 1805.562    | \n",
       "\n",
       "\n"
      ],
      "text/plain": [
       "  Pop         Site   Lineage Ne_est  \n",
       "1 Nome_ODD    Nome   ODD     2014.426\n",
       "2 Nome_EVEN   Nome   EVEN    3691.296\n",
       "3 Koppen_ODD  Koppen ODD     2079.581\n",
       "4 Koppen_EVEN Koppen EVEN    9087.463\n",
       "5 Puget_ODD   Puget  ODD     2934.276\n",
       "6 Puget_EVEN  Puget  EVEN    1805.562"
      ]
     },
     "metadata": {},
     "output_type": "display_data"
    }
   ],
   "source": [
    "Ne"
   ]
  },
  {
   "cell_type": "code",
   "execution_count": 3,
   "metadata": {
    "collapsed": false
   },
   "outputs": [
    {
     "data": {
      "text/html": [
       "<table>\n",
       "<thead><tr><th scope=col>Pop</th><th scope=col>Site</th><th scope=col>Lineage</th><th scope=col>Nc_est</th></tr></thead>\n",
       "<tbody>\n",
       "\t<tr><td>Nome_ODD   </td><td>Nome       </td><td>ODD        </td><td> 300000    </td></tr>\n",
       "\t<tr><td>Nome_EVEN  </td><td>Nome       </td><td>EVEN       </td><td>  10000    </td></tr>\n",
       "\t<tr><td>Koppen_ODD </td><td>Koppen     </td><td>ODD        </td><td> 200000    </td></tr>\n",
       "\t<tr><td>Koppen_EVEN</td><td>Koppen     </td><td>EVEN       </td><td> 200000    </td></tr>\n",
       "\t<tr><td>Puget_ODD  </td><td>Puget      </td><td>ODD        </td><td>1400000    </td></tr>\n",
       "\t<tr><td>Puget_EVEN </td><td>Puget      </td><td>EVEN       </td><td>   4000    </td></tr>\n",
       "</tbody>\n",
       "</table>\n"
      ],
      "text/latex": [
       "\\begin{tabular}{r|llll}\n",
       " Pop & Site & Lineage & Nc\\_est\\\\\n",
       "\\hline\n",
       "\t Nome\\_ODD    & Nome          & ODD           &  300000      \\\\\n",
       "\t Nome\\_EVEN   & Nome          & EVEN          &   10000      \\\\\n",
       "\t Koppen\\_ODD  & Koppen        & ODD           &  200000      \\\\\n",
       "\t Koppen\\_EVEN & Koppen        & EVEN          &  200000      \\\\\n",
       "\t Puget\\_ODD   & Puget         & ODD           & 1400000      \\\\\n",
       "\t Puget\\_EVEN  & Puget         & EVEN          &    4000      \\\\\n",
       "\\end{tabular}\n"
      ],
      "text/markdown": [
       "\n",
       "Pop | Site | Lineage | Nc_est | \n",
       "|---|---|---|---|---|---|\n",
       "| Nome_ODD    | Nome        | ODD         |  300000     | \n",
       "| Nome_EVEN   | Nome        | EVEN        |   10000     | \n",
       "| Koppen_ODD  | Koppen      | ODD         |  200000     | \n",
       "| Koppen_EVEN | Koppen      | EVEN        |  200000     | \n",
       "| Puget_ODD   | Puget       | ODD         | 1400000     | \n",
       "| Puget_EVEN  | Puget       | EVEN        |    4000     | \n",
       "\n",
       "\n"
      ],
      "text/plain": [
       "  Pop         Site   Lineage Nc_est \n",
       "1 Nome_ODD    Nome   ODD      300000\n",
       "2 Nome_EVEN   Nome   EVEN      10000\n",
       "3 Koppen_ODD  Koppen ODD      200000\n",
       "4 Koppen_EVEN Koppen EVEN     200000\n",
       "5 Puget_ODD   Puget  ODD     1400000\n",
       "6 Puget_EVEN  Puget  EVEN       4000"
      ]
     },
     "metadata": {},
     "output_type": "display_data"
    }
   ],
   "source": [
    "Nc"
   ]
  },
  {
   "cell_type": "code",
   "execution_count": 4,
   "metadata": {
    "collapsed": true
   },
   "outputs": [],
   "source": [
    "## Use the merge command to join them"
   ]
  },
  {
   "cell_type": "code",
   "execution_count": 5,
   "metadata": {
    "collapsed": false
   },
   "outputs": [
    {
     "data": {
      "text/html": [
       "<table>\n",
       "<thead><tr><th scope=col>Pop</th><th scope=col>Site</th><th scope=col>Lineage</th><th scope=col>Ne_est</th><th scope=col>Nc_est</th></tr></thead>\n",
       "<tbody>\n",
       "\t<tr><td>Koppen_EVEN</td><td>Koppen     </td><td>EVEN       </td><td>9087.463   </td><td> 200000    </td></tr>\n",
       "\t<tr><td>Koppen_ODD </td><td>Koppen     </td><td>ODD        </td><td>2079.581   </td><td> 200000    </td></tr>\n",
       "\t<tr><td>Nome_EVEN  </td><td>Nome       </td><td>EVEN       </td><td>3691.296   </td><td>  10000    </td></tr>\n",
       "\t<tr><td>Nome_ODD   </td><td>Nome       </td><td>ODD        </td><td>2014.426   </td><td> 300000    </td></tr>\n",
       "\t<tr><td>Puget_EVEN </td><td>Puget      </td><td>EVEN       </td><td>1805.562   </td><td>   4000    </td></tr>\n",
       "\t<tr><td>Puget_ODD  </td><td>Puget      </td><td>ODD        </td><td>2934.276   </td><td>1400000    </td></tr>\n",
       "</tbody>\n",
       "</table>\n"
      ],
      "text/latex": [
       "\\begin{tabular}{r|lllll}\n",
       " Pop & Site & Lineage & Ne\\_est & Nc\\_est\\\\\n",
       "\\hline\n",
       "\t Koppen\\_EVEN & Koppen        & EVEN          & 9087.463      &  200000      \\\\\n",
       "\t Koppen\\_ODD  & Koppen        & ODD           & 2079.581      &  200000      \\\\\n",
       "\t Nome\\_EVEN   & Nome          & EVEN          & 3691.296      &   10000      \\\\\n",
       "\t Nome\\_ODD    & Nome          & ODD           & 2014.426      &  300000      \\\\\n",
       "\t Puget\\_EVEN  & Puget         & EVEN          & 1805.562      &    4000      \\\\\n",
       "\t Puget\\_ODD   & Puget         & ODD           & 2934.276      & 1400000      \\\\\n",
       "\\end{tabular}\n"
      ],
      "text/markdown": [
       "\n",
       "Pop | Site | Lineage | Ne_est | Nc_est | \n",
       "|---|---|---|---|---|---|\n",
       "| Koppen_EVEN | Koppen      | EVEN        | 9087.463    |  200000     | \n",
       "| Koppen_ODD  | Koppen      | ODD         | 2079.581    |  200000     | \n",
       "| Nome_EVEN   | Nome        | EVEN        | 3691.296    |   10000     | \n",
       "| Nome_ODD    | Nome        | ODD         | 2014.426    |  300000     | \n",
       "| Puget_EVEN  | Puget       | EVEN        | 1805.562    |    4000     | \n",
       "| Puget_ODD   | Puget       | ODD         | 2934.276    | 1400000     | \n",
       "\n",
       "\n"
      ],
      "text/plain": [
       "  Pop         Site   Lineage Ne_est   Nc_est \n",
       "1 Koppen_EVEN Koppen EVEN    9087.463  200000\n",
       "2 Koppen_ODD  Koppen ODD     2079.581  200000\n",
       "3 Nome_EVEN   Nome   EVEN    3691.296   10000\n",
       "4 Nome_ODD    Nome   ODD     2014.426  300000\n",
       "5 Puget_EVEN  Puget  EVEN    1805.562    4000\n",
       "6 Puget_ODD   Puget  ODD     2934.276 1400000"
      ]
     },
     "metadata": {},
     "output_type": "display_data"
    }
   ],
   "source": [
    "estimates = merge(Ne, Nc)\n",
    "estimates"
   ]
  },
  {
   "cell_type": "code",
   "execution_count": 6,
   "metadata": {
    "collapsed": false
   },
   "outputs": [
    {
     "data": {
      "text/html": [
       "<table>\n",
       "<thead><tr><th></th><th scope=col>Pop</th><th scope=col>Site</th><th scope=col>Lineage</th><th scope=col>Ne_est</th><th scope=col>Nc_est</th><th scope=col>ratio</th></tr></thead>\n",
       "<tbody>\n",
       "\t<tr><th scope=row>4</th><td>Nome_ODD   </td><td>Nome       </td><td>ODD        </td><td>2014.426   </td><td> 300000    </td><td>0.006714752</td></tr>\n",
       "\t<tr><th scope=row>3</th><td>Nome_EVEN  </td><td>Nome       </td><td>EVEN       </td><td>3691.296   </td><td>  10000    </td><td>0.369129596</td></tr>\n",
       "\t<tr><th scope=row>2</th><td>Koppen_ODD </td><td>Koppen     </td><td>ODD        </td><td>2079.581   </td><td> 200000    </td><td>0.010397905</td></tr>\n",
       "\t<tr><th scope=row>1</th><td>Koppen_EVEN</td><td>Koppen     </td><td>EVEN       </td><td>9087.463   </td><td> 200000    </td><td>0.045437316</td></tr>\n",
       "\t<tr><th scope=row>6</th><td>Puget_ODD  </td><td>Puget      </td><td>ODD        </td><td>2934.276   </td><td>1400000    </td><td>0.002095911</td></tr>\n",
       "\t<tr><th scope=row>5</th><td>Puget_EVEN </td><td>Puget      </td><td>EVEN       </td><td>1805.562   </td><td>   4000    </td><td>0.451390566</td></tr>\n",
       "</tbody>\n",
       "</table>\n"
      ],
      "text/latex": [
       "\\begin{tabular}{r|llllll}\n",
       "  & Pop & Site & Lineage & Ne\\_est & Nc\\_est & ratio\\\\\n",
       "\\hline\n",
       "\t4 & Nome\\_ODD    & Nome          & ODD           & 2014.426      &  300000       & 0.006714752  \\\\\n",
       "\t3 & Nome\\_EVEN   & Nome          & EVEN          & 3691.296      &   10000       & 0.369129596  \\\\\n",
       "\t2 & Koppen\\_ODD  & Koppen        & ODD           & 2079.581      &  200000       & 0.010397905  \\\\\n",
       "\t1 & Koppen\\_EVEN & Koppen        & EVEN          & 9087.463      &  200000       & 0.045437316  \\\\\n",
       "\t6 & Puget\\_ODD   & Puget         & ODD           & 2934.276      & 1400000       & 0.002095911  \\\\\n",
       "\t5 & Puget\\_EVEN  & Puget         & EVEN          & 1805.562      &    4000       & 0.451390566  \\\\\n",
       "\\end{tabular}\n"
      ],
      "text/markdown": [
       "\n",
       "| <!--/--> | Pop | Site | Lineage | Ne_est | Nc_est | ratio | \n",
       "|---|---|---|---|---|---|\n",
       "| 4 | Nome_ODD    | Nome        | ODD         | 2014.426    |  300000     | 0.006714752 | \n",
       "| 3 | Nome_EVEN   | Nome        | EVEN        | 3691.296    |   10000     | 0.369129596 | \n",
       "| 2 | Koppen_ODD  | Koppen      | ODD         | 2079.581    |  200000     | 0.010397905 | \n",
       "| 1 | Koppen_EVEN | Koppen      | EVEN        | 9087.463    |  200000     | 0.045437316 | \n",
       "| 6 | Puget_ODD   | Puget       | ODD         | 2934.276    | 1400000     | 0.002095911 | \n",
       "| 5 | Puget_EVEN  | Puget       | EVEN        | 1805.562    |    4000     | 0.451390566 | \n",
       "\n",
       "\n"
      ],
      "text/plain": [
       "  Pop         Site   Lineage Ne_est   Nc_est  ratio      \n",
       "4 Nome_ODD    Nome   ODD     2014.426  300000 0.006714752\n",
       "3 Nome_EVEN   Nome   EVEN    3691.296   10000 0.369129596\n",
       "2 Koppen_ODD  Koppen ODD     2079.581  200000 0.010397905\n",
       "1 Koppen_EVEN Koppen EVEN    9087.463  200000 0.045437316\n",
       "6 Puget_ODD   Puget  ODD     2934.276 1400000 0.002095911\n",
       "5 Puget_EVEN  Puget  EVEN    1805.562    4000 0.451390566"
      ]
     },
     "metadata": {},
     "output_type": "display_data"
    }
   ],
   "source": [
    "estimates$ratio = estimates$Ne_est / estimates$Nc_est\n",
    "# reorder to match input order\n",
    "estimates$Pop <- factor(estimates$Pop , levels =c('Nome_ODD','Nome_EVEN', 'Koppen_ODD', 'Koppen_EVEN', 'Puget_ODD', 'Puget_EVEN'))\n",
    "estimates = estimates[order(estimates$Pop),]\n",
    "estimates"
   ]
  },
  {
   "cell_type": "code",
   "execution_count": null,
   "metadata": {
    "collapsed": true
   },
   "outputs": [],
   "source": [
    "for_barplot = data.matrix(t(estimates[,c('Ne_est', 'Nc_est')]))\n",
    "colnames(for_barplot) = estimates$Pop\n",
    "\n",
    "for_ratio_barplot = data.matrix(t(estimates[,'ratio']))\n",
    "colnames(for_ratio_barplot) = estimates$Pop"
   ]
  },
  {
   "cell_type": "code",
   "execution_count": 45,
   "metadata": {
    "collapsed": false,
    "scrolled": false
   },
   "outputs": [
    {
     "data": {
      "text/html": [
       "<strong>png:</strong> 2"
      ],
      "text/latex": [
       "\\textbf{png:} 2"
      ],
      "text/markdown": [
       "**png:** 2"
      ],
      "text/plain": [
       "png \n",
       "  2 "
      ]
     },
     "metadata": {},
     "output_type": "display_data"
    },
    {
     "data": {
      "text/html": [
       "<strong>png:</strong> 2"
      ],
      "text/latex": [
       "\\textbf{png:} 2"
      ],
      "text/markdown": [
       "**png:** 2"
      ],
      "text/plain": [
       "png \n",
       "  2 "
      ]
     },
     "metadata": {},
     "output_type": "display_data"
    },
    {
     "data": {
      "text/html": [
       "<strong>png:</strong> 2"
      ],
      "text/latex": [
       "\\textbf{png:} 2"
      ],
      "text/markdown": [
       "**png:** 2"
      ],
      "text/plain": [
       "png \n",
       "  2 "
      ]
     },
     "metadata": {},
     "output_type": "display_data"
    },
    {
     "data": {
      "text/html": [
       "<strong>png:</strong> 2"
      ],
      "text/latex": [
       "\\textbf{png:} 2"
      ],
      "text/markdown": [
       "**png:** 2"
      ],
      "text/plain": [
       "png \n",
       "  2 "
      ]
     },
     "metadata": {},
     "output_type": "display_data"
    }
   ],
   "source": [
    "par(mar=c(10,4,4,2))\n",
    "\n",
    "png('./plots/Ne estimates.png')\n",
    "barplot(for_barplot['Ne_est',], col = \"white\", beside = TRUE, las=2, #axes = FALSE, \n",
    "       main = \"Ne estimates for each population\",ylab = 'Ne')\n",
    "dev.off()\n",
    "\n",
    "png('./plots/Ne and Nc estimates.png')\n",
    "barplot(for_barplot, col = c(\"white\",\"black\"), beside = TRUE, las=2, axes = FALSE, \n",
    "       main = \"Ne and Nc estimates for each population\",ylab = 'Size')\n",
    "axis(side = 2, at = c(100, 10000, 500000, 1000000, 1500000))\n",
    "legend(\"top\",\n",
    "  c(\"Ne_est\",\"Nc_est\"),\n",
    "  fill = c(\"white\",\"black\")\n",
    ")\n",
    "dev.off()\n",
    "\n",
    "\n",
    "# same plot with a log y axis\n",
    "png('./plots/Ne and Nc estimates (log-scaled).png')\n",
    "barplot(for_barplot, col = c(\"white\",\"black\"), beside = TRUE, las=2, \n",
    "        log = 'y', axes = FALSE, ylim = c(100,1400000), \n",
    "       main = \"Ne and Nc estimates for each population\",ylab = 'Size (log scaled)')\n",
    "axis(side = 2, at = c(100, 10000, 500000, 1000000, 1500000))\n",
    "legend(\"top\",\n",
    "  c(\"Ne_est\",\"Nc_est\"),\n",
    "  fill = c(\"white\",\"black\")\n",
    ")\n",
    "dev.off()\n",
    "\n",
    "png('./plots/Ne-Nc ratios.png')\n",
    "barplot(for_ratio_barplot, col = \"gray\", beside = TRUE, las=2, #axes = FALSE, \n",
    "       main = \"Ne/Nc ratios for each population\",ylab = 'Ne/Nc ratio')\n",
    "dev.off()\n"
   ]
  },
  {
   "cell_type": "code",
   "execution_count": null,
   "metadata": {
    "collapsed": true
   },
   "outputs": [],
   "source": []
  },
  {
   "cell_type": "markdown",
   "metadata": {},
   "source": [
    "# Plot  r2 matrices"
   ]
  },
  {
   "cell_type": "code",
   "execution_count": 34,
   "metadata": {
    "collapsed": true
   },
   "outputs": [],
   "source": [
    "source('./scripts/R_functions.r')"
   ]
  },
  {
   "cell_type": "code",
   "execution_count": 43,
   "metadata": {
    "collapsed": false
   },
   "outputs": [
    {
     "data": {
      "text/html": [
       "<strong>png:</strong> 2"
      ],
      "text/latex": [
       "\\textbf{png:} 2"
      ],
      "text/markdown": [
       "**png:** 2"
      ],
      "text/plain": [
       "png \n",
       "  2 "
      ]
     },
     "metadata": {},
     "output_type": "display_data"
    },
    {
     "data": {
      "text/html": [
       "<strong>png:</strong> 2"
      ],
      "text/latex": [
       "\\textbf{png:} 2"
      ],
      "text/markdown": [
       "**png:** 2"
      ],
      "text/plain": [
       "png \n",
       "  2 "
      ]
     },
     "metadata": {},
     "output_type": "display_data"
    },
    {
     "data": {
      "text/html": [
       "<strong>png:</strong> 2"
      ],
      "text/latex": [
       "\\textbf{png:} 2"
      ],
      "text/markdown": [
       "**png:** 2"
      ],
      "text/plain": [
       "png \n",
       "  2 "
      ]
     },
     "metadata": {},
     "output_type": "display_data"
    },
    {
     "data": {
      "text/html": [
       "<strong>png:</strong> 2"
      ],
      "text/latex": [
       "\\textbf{png:} 2"
      ],
      "text/markdown": [
       "**png:** 2"
      ],
      "text/plain": [
       "png \n",
       "  2 "
      ]
     },
     "metadata": {},
     "output_type": "display_data"
    },
    {
     "data": {
      "text/html": [
       "<strong>png:</strong> 2"
      ],
      "text/latex": [
       "\\textbf{png:} 2"
      ],
      "text/markdown": [
       "**png:** 2"
      ],
      "text/plain": [
       "png \n",
       "  2 "
      ]
     },
     "metadata": {},
     "output_type": "display_data"
    },
    {
     "data": {
      "text/html": [
       "<strong>png:</strong> 2"
      ],
      "text/latex": [
       "\\textbf{png:} 2"
      ],
      "text/markdown": [
       "**png:** 2"
      ],
      "text/plain": [
       "png \n",
       "  2 "
      ]
     },
     "metadata": {},
     "output_type": "display_data"
    }
   ],
   "source": [
    "Ne_Nome_ODD = get_Ne('./work/Nome_ODD')\n",
    "Ne_Nome_EVEN = get_Ne('./work/Nome_EVEN')\n",
    "Ne_Koppen_ODD = get_Ne('./work/Koppen_ODD')\n",
    "Ne_Koppen_EVEN = get_Ne('./work/Koppen_EVEN')\n",
    "Ne_Puget_ODD = get_Ne('./work/Puget_ODD')\n",
    "Ne_Puget_EVEN = get_Ne('./work/Puget_EVEN')\n",
    "\n",
    "png('./plots/LD_Nome_ODD.png')\n",
    "image(Ne_Nome_ODD$r2_matrix, axes = FALSE, col = rev(heat.colors(256)))\n",
    "dev.off()\n",
    "\n",
    "png('./plots/LD_Nome_EVEN.png')\n",
    "image(Ne_Nome_EVEN$r2_matrix, axes = FALSE, col = rev(heat.colors(256)))\n",
    "dev.off()\n",
    "\n",
    "png('./plots/LD_Koppen_ODD.png')\n",
    "image(Ne_Koppen_ODD$r2_matrix, axes = FALSE, col = rev(heat.colors(256)))\n",
    "dev.off()\n",
    "\n",
    "png('./plots/LD_Koppen_EVEN.png')\n",
    "image(Ne_Koppen_EVEN$r2_matrix, axes = FALSE, col = rev(heat.colors(256)))\n",
    "dev.off()\n",
    "\n",
    "png('./plots/LD_Puget_ODD.png')\n",
    "image(Ne_Puget_ODD$r2_matrix, axes = FALSE, col = rev(heat.colors(256)))\n",
    "dev.off()\n",
    "\n",
    "png('./plots/LD_Puget_EVEN.png')\n",
    "image(Ne_Puget_EVEN$r2_matrix, axes = FALSE, col = rev(heat.colors(256)))\n",
    "dev.off()"
   ]
  },
  {
   "cell_type": "code",
   "execution_count": null,
   "metadata": {
    "collapsed": true
   },
   "outputs": [],
   "source": []
  }
 ],
 "metadata": {
  "kernelspec": {
   "display_name": "R",
   "language": "R",
   "name": "ir"
  },
  "language_info": {
   "codemirror_mode": "r",
   "file_extension": ".r",
   "mimetype": "text/x-r-source",
   "name": "R",
   "pygments_lexer": "r",
   "version": "3.3.2"
  }
 },
 "nbformat": 4,
 "nbformat_minor": 2
}
