{
 "cells": [
  {
   "cell_type": "markdown",
   "metadata": {},
   "source": [
    "## Start R code here"
   ]
  },
  {
   "cell_type": "code",
   "execution_count": 67,
   "metadata": {
    "collapsed": true
   },
   "outputs": [],
   "source": [
    "## Functions to read in data"
   ]
  },
  {
   "cell_type": "code",
   "execution_count": 68,
   "metadata": {
    "collapsed": true
   },
   "outputs": [],
   "source": [
    "read_r2_matrix <- function(r2_path){\n",
    "    r2_df = read.table(r2_path, sep=\"\\t\", )\n",
    "    r2_matrix <- data.matrix(r2_df) \n",
    "    return(r2_matrix)\n",
    "}"
   ]
  },
  {
   "cell_type": "code",
   "execution_count": 69,
   "metadata": {
    "collapsed": true
   },
   "outputs": [],
   "source": [
    "get_bim <- function(bim_path){\n",
    "    bim = read.table(bim_path, sep = '\\t')\n",
    "    names(bim) = c('chr', 'SNP', 'cm', 'bp', 'A1', 'A2')\n",
    "    return(bim)\n",
    "    }"
   ]
  },
  {
   "cell_type": "code",
   "execution_count": 70,
   "metadata": {
    "collapsed": true
   },
   "outputs": [],
   "source": [
    "get_fam <- function(fam_path){\n",
    "    fam = read.table(fam_path, sep = ' ')\n",
    "    names(fam) = c('FID', 'IID', 'fatherID', 'motherID', 'sex', 'phenotype')\n",
    "    return(fam)\n",
    "    }"
   ]
  },
  {
   "cell_type": "code",
   "execution_count": 71,
   "metadata": {
    "collapsed": true
   },
   "outputs": [],
   "source": [
    "estimate_Ne <- function(mean_r2, S){\n",
    "    adj1_r2 = mean_r2 * (S/(S-1))**2\n",
    "    adj2_r2 = adj1_r2 - 0.0018 - 0.907/S - 4.44/(S**2)\n",
    "    Ne_est = (0.308 + sqrt(.308**2 - 2.08*adj2_r2))/(2*adj2_r2)\n",
    "    return(Ne_est)\n",
    "}"
   ]
  },
  {
   "cell_type": "code",
   "execution_count": 76,
   "metadata": {
    "collapsed": false
   },
   "outputs": [],
   "source": [
    "get_Ne <- function(base_path){\n",
    "    # load files\n",
    "    r2_path  = paste(base_path, '.ld', sep ='')\n",
    "    bim_path = paste(base_path, '.bim', sep ='')\n",
    "    fam_path = paste(base_path, '.fam', sep ='')\n",
    "    pop_mat = read_r2_matrix(r2_path)\n",
    "    pop_bim = get_bim(bim_path)\n",
    "    pop_fam = get_fam(fam_path)\n",
    "    \n",
    "    # get the sample size of the population from the .fam file\n",
    "    S = nrow(pop_fam)\n",
    "    \n",
    "    # exclude loci on the same chromosome\n",
    "    for (CH in 1:26){\n",
    "        my_idx = which(pop_bim$chr==CH)\n",
    "        pop_mat[my_idx, my_idx] <- NA\n",
    "    }\n",
    "    # get just the upper triangle of the square matrix\n",
    "    r2_vals = pop_mat[upper.tri(x = pop_mat, diag = FALSE)]\n",
    "    # remove NA values\n",
    "    r2_vals = r2_vals[!is.na(r2_vals)]\n",
    "    \n",
    "    mean_r2 = mean(r2_vals)\n",
    "    # Non -bias correcteted Ne estimate\n",
    "    Ne_basic = 1.0/(3*mean_r2 - 3.0/S)\n",
    "    \n",
    "    # Bias corrected for low sample size (S<30)\n",
    "    Ne_est = estimate_Ne(mean_r2=mean_r2, S=S)\n",
    "    \n",
    "    #print(c(Ne_est, Ne_basic))\n",
    "    \n",
    "    # return the bias-corrected estimate and the\n",
    "    #  r2 matrix used in the calculation (with within-chromsome r2 values masked)\n",
    "    return (list(Ne_est = Ne_est, r2_matrix = pop_mat))\n",
    "}"
   ]
  }
 ],
 "metadata": {
  "kernelspec": {
   "display_name": "R",
   "language": "R",
   "name": "ir"
  },
  "language_info": {
   "codemirror_mode": "r",
   "file_extension": ".r",
   "mimetype": "text/x-r-source",
   "name": "R",
   "pygments_lexer": "r",
   "version": "3.3.2"
  }
 },
 "nbformat": 4,
 "nbformat_minor": 2
}
